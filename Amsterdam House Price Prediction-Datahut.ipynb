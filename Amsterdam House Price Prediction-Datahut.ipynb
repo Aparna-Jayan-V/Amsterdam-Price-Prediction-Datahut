{
 "cells": [
  {
   "cell_type": "markdown",
   "id": "05d4bf30",
   "metadata": {},
   "source": [
    "# Amsterdam House Price Prediction"
   ]
  },
  {
   "cell_type": "code",
   "execution_count": 1,
   "id": "f6362f26",
   "metadata": {},
   "outputs": [],
   "source": [
    "# importing necessary libraries\n",
    "import numpy as np\n",
    "import pandas as pd\n",
    "import seaborn as sns\n",
    "import matplotlib.pyplot as plt\n",
    "from xgboost import XGBRegressor\n",
    "from sklearn.metrics import r2_score\n",
    "from sklearn.linear_model import Lasso, Ridge\n",
    "from sklearn.preprocessing import LabelEncoder\n",
    "from sklearn.metrics import mean_squared_error\n",
    "from sklearn.metrics import mean_absolute_error\n",
    "from sklearn.preprocessing import StandardScaler\n",
    "from sklearn.model_selection import GridSearchCV\n",
    "from sklearn.linear_model import LinearRegression\n",
    "from sklearn.model_selection import RepeatedKFold\n",
    "from sklearn.ensemble import RandomForestRegressor\n",
    "from sklearn.model_selection import train_test_split\n",
    "from sklearn.model_selection import RandomizedSearchCV"
   ]
  },
  {
   "cell_type": "code",
   "execution_count": 2,
   "id": "3d0897a5",
   "metadata": {},
   "outputs": [],
   "source": [
    "# loading the dataset\n",
    "df_ams=pd.read_csv('amsterdamMerged.csv')  "
   ]
  },
  {
   "cell_type": "code",
   "execution_count": 3,
   "id": "58ea9190",
   "metadata": {},
   "outputs": [
    {
     "data": {
      "text/html": [
       "<div>\n",
       "<style scoped>\n",
       "    .dataframe tbody tr th:only-of-type {\n",
       "        vertical-align: middle;\n",
       "    }\n",
       "\n",
       "    .dataframe tbody tr th {\n",
       "        vertical-align: top;\n",
       "    }\n",
       "\n",
       "    .dataframe thead th {\n",
       "        text-align: right;\n",
       "    }\n",
       "</style>\n",
       "<table border=\"1\" class=\"dataframe\">\n",
       "  <thead>\n",
       "    <tr style=\"text-align: right;\">\n",
       "      <th></th>\n",
       "      <th>File</th>\n",
       "      <th>URL</th>\n",
       "      <th>TITLE</th>\n",
       "      <th>LOCATION</th>\n",
       "      <th>PRICE PER MONTH</th>\n",
       "      <th>AREA IN m²</th>\n",
       "      <th>NUMBER OF ROOMS</th>\n",
       "      <th>INTERIOR</th>\n",
       "      <th>DESCRIPTION</th>\n",
       "      <th>OFFERED SINCE</th>\n",
       "      <th>...</th>\n",
       "      <th>NUMBER OF BEDROOMS</th>\n",
       "      <th>NUMBER OF BATHROOMS</th>\n",
       "      <th>NUMBER OF FLOORS</th>\n",
       "      <th>DETAILS OF BALCONY</th>\n",
       "      <th>DETAILS OF GARDEN</th>\n",
       "      <th>DETAILS OF STORAGE</th>\n",
       "      <th>DESCRIPTION OF STORAGE</th>\n",
       "      <th>GARAGE</th>\n",
       "      <th>CONTACT DETAILS</th>\n",
       "      <th>TIMESTAMP</th>\n",
       "    </tr>\n",
       "  </thead>\n",
       "  <tbody>\n",
       "    <tr>\n",
       "      <th>0</th>\n",
       "      <td>amsterdam_1.csv</td>\n",
       "      <td>https://www.pararius.com/apartment-for-rent/am...</td>\n",
       "      <td>Apartment Kerkstraat 127 B</td>\n",
       "      <td>1017 GE (Grachtengordel-Zuid)</td>\n",
       "      <td>2400</td>\n",
       "      <td>84</td>\n",
       "      <td>3</td>\n",
       "      <td>Upholstered or furnished</td>\n",
       "      <td>Luxurious, fully furnished, Penthouse apartmen...</td>\n",
       "      <td>3 weeks</td>\n",
       "      <td>...</td>\n",
       "      <td>2</td>\n",
       "      <td>1</td>\n",
       "      <td>1</td>\n",
       "      <td>Not present</td>\n",
       "      <td>Details of garden is not available</td>\n",
       "      <td>Details of storage is not available</td>\n",
       "      <td>Details of description of the storage is not a...</td>\n",
       "      <td>Yes</td>\n",
       "      <td>https://www.pararius.com/contact/700dc064/amst...</td>\n",
       "      <td>2022-08-03 17:22:07</td>\n",
       "    </tr>\n",
       "    <tr>\n",
       "      <th>1</th>\n",
       "      <td>amsterdam_1.csv</td>\n",
       "      <td>https://www.pararius.com/apartment-for-rent/am...</td>\n",
       "      <td>Apartment Prinsengracht 625 2</td>\n",
       "      <td>1016 HV (Grachtengordel-West)</td>\n",
       "      <td>3250</td>\n",
       "      <td>120</td>\n",
       "      <td>4</td>\n",
       "      <td>Upholstered</td>\n",
       "      <td>NEW FOR RENT!</td>\n",
       "      <td>7 weeks</td>\n",
       "      <td>...</td>\n",
       "      <td>2</td>\n",
       "      <td>1</td>\n",
       "      <td>3</td>\n",
       "      <td>Not present</td>\n",
       "      <td>Details of garden is not available</td>\n",
       "      <td>Details of storage is not available</td>\n",
       "      <td>Details of description of the storage is not a...</td>\n",
       "      <td>Yes</td>\n",
       "      <td>https://www.pararius.com/contact/92cde2d7/amst...</td>\n",
       "      <td>2022-08-03 17:23:56</td>\n",
       "    </tr>\n",
       "    <tr>\n",
       "      <th>2</th>\n",
       "      <td>amsterdam_1.csv</td>\n",
       "      <td>https://www.pararius.com/apartment-for-rent/am...</td>\n",
       "      <td>Apartment Prinsengracht 701 2A</td>\n",
       "      <td>1017 JV (Grachtengordel-Zuid)</td>\n",
       "      <td>2050</td>\n",
       "      <td>60</td>\n",
       "      <td>2</td>\n",
       "      <td>Upholstered or furnished</td>\n",
       "      <td>Exclusively for rent at de Hollandsche Makelaa...</td>\n",
       "      <td>23-07-2022</td>\n",
       "      <td>...</td>\n",
       "      <td>1</td>\n",
       "      <td>1</td>\n",
       "      <td>1</td>\n",
       "      <td>Not present</td>\n",
       "      <td>Details of garden is not available</td>\n",
       "      <td>Details of storage is not available</td>\n",
       "      <td>Details of description of the storage is not a...</td>\n",
       "      <td>Yes</td>\n",
       "      <td>https://www.pararius.com/contact/3c0d0f7e/amst...</td>\n",
       "      <td>2022-08-03 17:26:13</td>\n",
       "    </tr>\n",
       "    <tr>\n",
       "      <th>3</th>\n",
       "      <td>amsterdam_1.csv</td>\n",
       "      <td>https://www.pararius.com/apartment-for-rent/am...</td>\n",
       "      <td>Apartment Leliegracht 12 1</td>\n",
       "      <td>1015 DE (Grachtengordel-West)</td>\n",
       "      <td>2250</td>\n",
       "      <td>95</td>\n",
       "      <td>2</td>\n",
       "      <td>Furnished</td>\n",
       "      <td>Maximum 6 Months</td>\n",
       "      <td>3+ months</td>\n",
       "      <td>...</td>\n",
       "      <td>1</td>\n",
       "      <td>1</td>\n",
       "      <td>1</td>\n",
       "      <td>Not present</td>\n",
       "      <td>Details of garden is not available</td>\n",
       "      <td>Details of storage is not available</td>\n",
       "      <td>Details of description of the storage is not a...</td>\n",
       "      <td>Details of garage is not available</td>\n",
       "      <td>https://www.pararius.com/contact/2bd720f0/amst...</td>\n",
       "      <td>2022-08-03 17:27:21</td>\n",
       "    </tr>\n",
       "    <tr>\n",
       "      <th>4</th>\n",
       "      <td>amsterdam_8.csv</td>\n",
       "      <td>https://www.pararius.com/apartment-for-rent/am...</td>\n",
       "      <td>Apartment Nieuwe Leliestraat 66 H</td>\n",
       "      <td>1015 SV (Jordaan)</td>\n",
       "      <td>2750</td>\n",
       "      <td>78</td>\n",
       "      <td>3</td>\n",
       "      <td>Upholstered or furnished</td>\n",
       "      <td>Living in a historical building in famous Jord...</td>\n",
       "      <td>10-08-2022</td>\n",
       "      <td>...</td>\n",
       "      <td>2</td>\n",
       "      <td>1</td>\n",
       "      <td>2</td>\n",
       "      <td>Not present</td>\n",
       "      <td>Present (15 m², located on the north-west)</td>\n",
       "      <td>Details of storage is not available</td>\n",
       "      <td>Details of description of the storage is not a...</td>\n",
       "      <td>Yes</td>\n",
       "      <td>https://www.pararius.com/contact/06f2c6e0/amst...</td>\n",
       "      <td>2022-08-10</td>\n",
       "    </tr>\n",
       "  </tbody>\n",
       "</table>\n",
       "<p>5 rows × 28 columns</p>\n",
       "</div>"
      ],
      "text/plain": [
       "              File                                                URL  \\\n",
       "0  amsterdam_1.csv  https://www.pararius.com/apartment-for-rent/am...   \n",
       "1  amsterdam_1.csv  https://www.pararius.com/apartment-for-rent/am...   \n",
       "2  amsterdam_1.csv  https://www.pararius.com/apartment-for-rent/am...   \n",
       "3  amsterdam_1.csv  https://www.pararius.com/apartment-for-rent/am...   \n",
       "4  amsterdam_8.csv  https://www.pararius.com/apartment-for-rent/am...   \n",
       "\n",
       "                               TITLE                       LOCATION  \\\n",
       "0         Apartment Kerkstraat 127 B  1017 GE (Grachtengordel-Zuid)   \n",
       "1      Apartment Prinsengracht 625 2  1016 HV (Grachtengordel-West)   \n",
       "2     Apartment Prinsengracht 701 2A  1017 JV (Grachtengordel-Zuid)   \n",
       "3         Apartment Leliegracht 12 1  1015 DE (Grachtengordel-West)   \n",
       "4  Apartment Nieuwe Leliestraat 66 H              1015 SV (Jordaan)   \n",
       "\n",
       "   PRICE PER MONTH  AREA IN m²  NUMBER OF ROOMS                  INTERIOR  \\\n",
       "0             2400          84                3  Upholstered or furnished   \n",
       "1             3250         120                4               Upholstered   \n",
       "2             2050          60                2  Upholstered or furnished   \n",
       "3             2250          95                2                 Furnished   \n",
       "4             2750          78                3  Upholstered or furnished   \n",
       "\n",
       "                                         DESCRIPTION OFFERED SINCE  ...  \\\n",
       "0  Luxurious, fully furnished, Penthouse apartmen...       3 weeks  ...   \n",
       "1                                      NEW FOR RENT!       7 weeks  ...   \n",
       "2  Exclusively for rent at de Hollandsche Makelaa...    23-07-2022  ...   \n",
       "3                                   Maximum 6 Months     3+ months  ...   \n",
       "4  Living in a historical building in famous Jord...    10-08-2022  ...   \n",
       "\n",
       "  NUMBER OF BEDROOMS NUMBER OF BATHROOMS NUMBER OF FLOORS DETAILS OF BALCONY  \\\n",
       "0                  2                   1                1        Not present   \n",
       "1                  2                   1                3        Not present   \n",
       "2                  1                   1                1        Not present   \n",
       "3                  1                   1                1        Not present   \n",
       "4                  2                   1                2        Not present   \n",
       "\n",
       "                            DETAILS OF GARDEN  \\\n",
       "0          Details of garden is not available   \n",
       "1          Details of garden is not available   \n",
       "2          Details of garden is not available   \n",
       "3          Details of garden is not available   \n",
       "4  Present (15 m², located on the north-west)   \n",
       "\n",
       "                    DETAILS OF STORAGE  \\\n",
       "0  Details of storage is not available   \n",
       "1  Details of storage is not available   \n",
       "2  Details of storage is not available   \n",
       "3  Details of storage is not available   \n",
       "4  Details of storage is not available   \n",
       "\n",
       "                              DESCRIPTION OF STORAGE  \\\n",
       "0  Details of description of the storage is not a...   \n",
       "1  Details of description of the storage is not a...   \n",
       "2  Details of description of the storage is not a...   \n",
       "3  Details of description of the storage is not a...   \n",
       "4  Details of description of the storage is not a...   \n",
       "\n",
       "                               GARAGE  \\\n",
       "0                                 Yes   \n",
       "1                                 Yes   \n",
       "2                                 Yes   \n",
       "3  Details of garage is not available   \n",
       "4                                 Yes   \n",
       "\n",
       "                                     CONTACT DETAILS            TIMESTAMP  \n",
       "0  https://www.pararius.com/contact/700dc064/amst...  2022-08-03 17:22:07  \n",
       "1  https://www.pararius.com/contact/92cde2d7/amst...  2022-08-03 17:23:56  \n",
       "2  https://www.pararius.com/contact/3c0d0f7e/amst...  2022-08-03 17:26:13  \n",
       "3  https://www.pararius.com/contact/2bd720f0/amst...  2022-08-03 17:27:21  \n",
       "4  https://www.pararius.com/contact/06f2c6e0/amst...           2022-08-10  \n",
       "\n",
       "[5 rows x 28 columns]"
      ]
     },
     "execution_count": 3,
     "metadata": {},
     "output_type": "execute_result"
    }
   ],
   "source": [
    "df_ams.head()"
   ]
  },
  {
   "cell_type": "code",
   "execution_count": 4,
   "id": "76eb3b27",
   "metadata": {},
   "outputs": [
    {
     "data": {
      "text/plain": [
       "Index(['File', 'URL', 'TITLE', 'LOCATION', 'PRICE PER MONTH', 'AREA IN m²',\n",
       "       'NUMBER OF ROOMS', 'INTERIOR', 'DESCRIPTION', 'OFFERED SINCE',\n",
       "       'AVAILABILITY', 'SPECIFICATION', 'UPKEEP STATUS', 'VOLUME', 'TYPE',\n",
       "       'CONSTRUCTION TYPE', 'CONSTRUCTION YEAR', 'LOCATION TYPE',\n",
       "       'NUMBER OF BEDROOMS', 'NUMBER OF BATHROOMS', 'NUMBER OF FLOORS',\n",
       "       'DETAILS OF BALCONY', 'DETAILS OF GARDEN', 'DETAILS OF STORAGE',\n",
       "       'DESCRIPTION OF STORAGE', 'GARAGE', 'CONTACT DETAILS', 'TIMESTAMP'],\n",
       "      dtype='object')"
      ]
     },
     "execution_count": 4,
     "metadata": {},
     "output_type": "execute_result"
    }
   ],
   "source": [
    "df_ams.columns"
   ]
  },
  {
   "cell_type": "code",
   "execution_count": 5,
   "id": "e4c6e31d",
   "metadata": {},
   "outputs": [
    {
     "data": {
      "text/plain": [
       "Index(['File', 'URL', 'TITLE', 'LOCATION', 'PRICE PER MONTH',\n",
       "       'AREA IN SQ METRE', 'NUMBER OF ROOMS', 'INTERIOR', 'DESCRIPTION',\n",
       "       'OFFERED SINCE', 'AVAILABILITY', 'SPECIFICATION', 'UPKEEP STATUS',\n",
       "       'VOLUME', 'TYPE', 'CONSTRUCTION TYPE', 'CONSTRUCTION YEAR',\n",
       "       'LOCATION TYPE', 'NUMBER OF BEDROOMS', 'NUMBER OF BATHROOMS',\n",
       "       'NUMBER OF FLOORS', 'DETAILS OF BALCONY', 'DETAILS OF GARDEN',\n",
       "       'DETAILS OF STORAGE', 'DESCRIPTION OF STORAGE', 'GARAGE',\n",
       "       'CONTACT DETAILS', 'TIMESTAMP'],\n",
       "      dtype='object')"
      ]
     },
     "execution_count": 5,
     "metadata": {},
     "output_type": "execute_result"
    }
   ],
   "source": [
    "df_ams.rename(columns = {'AREA IN m²':'AREA IN SQ METRE'}, inplace = True)   \n",
    "df_ams.columns"
   ]
  },
  {
   "cell_type": "code",
   "execution_count": 6,
   "id": "6225cfd3",
   "metadata": {},
   "outputs": [
    {
     "name": "stdout",
     "output_type": "stream",
     "text": [
      "<class 'pandas.core.frame.DataFrame'>\n",
      "RangeIndex: 992 entries, 0 to 991\n",
      "Data columns (total 28 columns):\n",
      " #   Column                  Non-Null Count  Dtype \n",
      "---  ------                  --------------  ----- \n",
      " 0   File                    992 non-null    object\n",
      " 1   URL                     992 non-null    object\n",
      " 2   TITLE                   992 non-null    object\n",
      " 3   LOCATION                992 non-null    object\n",
      " 4   PRICE PER MONTH         992 non-null    int64 \n",
      " 5   AREA IN SQ METRE        992 non-null    int64 \n",
      " 6   NUMBER OF ROOMS         992 non-null    int64 \n",
      " 7   INTERIOR                992 non-null    object\n",
      " 8   DESCRIPTION             992 non-null    object\n",
      " 9   OFFERED SINCE           992 non-null    object\n",
      " 10  AVAILABILITY            992 non-null    object\n",
      " 11  SPECIFICATION           992 non-null    object\n",
      " 12  UPKEEP STATUS           992 non-null    object\n",
      " 13  VOLUME                  992 non-null    object\n",
      " 14  TYPE                    992 non-null    object\n",
      " 15  CONSTRUCTION TYPE       992 non-null    object\n",
      " 16  CONSTRUCTION YEAR       992 non-null    int64 \n",
      " 17  LOCATION TYPE           992 non-null    object\n",
      " 18  NUMBER OF BEDROOMS      992 non-null    object\n",
      " 19  NUMBER OF BATHROOMS     992 non-null    object\n",
      " 20  NUMBER OF FLOORS        992 non-null    object\n",
      " 21  DETAILS OF BALCONY      992 non-null    object\n",
      " 22  DETAILS OF GARDEN       992 non-null    object\n",
      " 23  DETAILS OF STORAGE      992 non-null    object\n",
      " 24  DESCRIPTION OF STORAGE  992 non-null    object\n",
      " 25  GARAGE                  992 non-null    object\n",
      " 26  CONTACT DETAILS         992 non-null    object\n",
      " 27  TIMESTAMP               992 non-null    object\n",
      "dtypes: int64(4), object(24)\n",
      "memory usage: 217.1+ KB\n"
     ]
    }
   ],
   "source": [
    "df_ams.info()"
   ]
  },
  {
   "cell_type": "code",
   "execution_count": 7,
   "id": "1eb96b81",
   "metadata": {},
   "outputs": [
    {
     "data": {
      "text/html": [
       "<div>\n",
       "<style scoped>\n",
       "    .dataframe tbody tr th:only-of-type {\n",
       "        vertical-align: middle;\n",
       "    }\n",
       "\n",
       "    .dataframe tbody tr th {\n",
       "        vertical-align: top;\n",
       "    }\n",
       "\n",
       "    .dataframe thead th {\n",
       "        text-align: right;\n",
       "    }\n",
       "</style>\n",
       "<table border=\"1\" class=\"dataframe\">\n",
       "  <thead>\n",
       "    <tr style=\"text-align: right;\">\n",
       "      <th></th>\n",
       "      <th>PRICE PER MONTH</th>\n",
       "      <th>AREA IN SQ METRE</th>\n",
       "      <th>NUMBER OF ROOMS</th>\n",
       "      <th>CONSTRUCTION YEAR</th>\n",
       "    </tr>\n",
       "  </thead>\n",
       "  <tbody>\n",
       "    <tr>\n",
       "      <th>count</th>\n",
       "      <td>992.000000</td>\n",
       "      <td>992.000000</td>\n",
       "      <td>992.000000</td>\n",
       "      <td>992.000000</td>\n",
       "    </tr>\n",
       "    <tr>\n",
       "      <th>mean</th>\n",
       "      <td>2647.028226</td>\n",
       "      <td>95.846774</td>\n",
       "      <td>3.231855</td>\n",
       "      <td>1934.740927</td>\n",
       "    </tr>\n",
       "    <tr>\n",
       "      <th>std</th>\n",
       "      <td>1326.906610</td>\n",
       "      <td>46.478913</td>\n",
       "      <td>1.206555</td>\n",
       "      <td>97.779249</td>\n",
       "    </tr>\n",
       "    <tr>\n",
       "      <th>min</th>\n",
       "      <td>440.000000</td>\n",
       "      <td>18.000000</td>\n",
       "      <td>1.000000</td>\n",
       "      <td>1005.000000</td>\n",
       "    </tr>\n",
       "    <tr>\n",
       "      <th>25%</th>\n",
       "      <td>1850.000000</td>\n",
       "      <td>67.000000</td>\n",
       "      <td>3.000000</td>\n",
       "      <td>1906.000000</td>\n",
       "    </tr>\n",
       "    <tr>\n",
       "      <th>50%</th>\n",
       "      <td>2350.000000</td>\n",
       "      <td>87.000000</td>\n",
       "      <td>3.000000</td>\n",
       "      <td>1934.000000</td>\n",
       "    </tr>\n",
       "    <tr>\n",
       "      <th>75%</th>\n",
       "      <td>2950.000000</td>\n",
       "      <td>111.250000</td>\n",
       "      <td>4.000000</td>\n",
       "      <td>2001.000000</td>\n",
       "    </tr>\n",
       "    <tr>\n",
       "      <th>max</th>\n",
       "      <td>13500.000000</td>\n",
       "      <td>536.000000</td>\n",
       "      <td>12.000000</td>\n",
       "      <td>2022.000000</td>\n",
       "    </tr>\n",
       "  </tbody>\n",
       "</table>\n",
       "</div>"
      ],
      "text/plain": [
       "       PRICE PER MONTH  AREA IN SQ METRE  NUMBER OF ROOMS  CONSTRUCTION YEAR\n",
       "count       992.000000        992.000000       992.000000         992.000000\n",
       "mean       2647.028226         95.846774         3.231855        1934.740927\n",
       "std        1326.906610         46.478913         1.206555          97.779249\n",
       "min         440.000000         18.000000         1.000000        1005.000000\n",
       "25%        1850.000000         67.000000         3.000000        1906.000000\n",
       "50%        2350.000000         87.000000         3.000000        1934.000000\n",
       "75%        2950.000000        111.250000         4.000000        2001.000000\n",
       "max       13500.000000        536.000000        12.000000        2022.000000"
      ]
     },
     "execution_count": 7,
     "metadata": {},
     "output_type": "execute_result"
    }
   ],
   "source": [
    "df_ams.describe()"
   ]
  },
  {
   "cell_type": "code",
   "execution_count": 8,
   "id": "67a79999",
   "metadata": {},
   "outputs": [
    {
     "data": {
      "text/plain": [
       "File                      object\n",
       "URL                       object\n",
       "TITLE                     object\n",
       "LOCATION                  object\n",
       "PRICE PER MONTH            int64\n",
       "AREA IN SQ METRE           int64\n",
       "NUMBER OF ROOMS            int64\n",
       "INTERIOR                  object\n",
       "DESCRIPTION               object\n",
       "OFFERED SINCE             object\n",
       "AVAILABILITY              object\n",
       "SPECIFICATION             object\n",
       "UPKEEP STATUS             object\n",
       "VOLUME                    object\n",
       "TYPE                      object\n",
       "CONSTRUCTION TYPE         object\n",
       "CONSTRUCTION YEAR          int64\n",
       "LOCATION TYPE             object\n",
       "NUMBER OF BEDROOMS        object\n",
       "NUMBER OF BATHROOMS       object\n",
       "NUMBER OF FLOORS          object\n",
       "DETAILS OF BALCONY        object\n",
       "DETAILS OF GARDEN         object\n",
       "DETAILS OF STORAGE        object\n",
       "DESCRIPTION OF STORAGE    object\n",
       "GARAGE                    object\n",
       "CONTACT DETAILS           object\n",
       "TIMESTAMP                 object\n",
       "dtype: object"
      ]
     },
     "execution_count": 8,
     "metadata": {},
     "output_type": "execute_result"
    }
   ],
   "source": [
    "df_ams.dtypes"
   ]
  },
  {
   "cell_type": "code",
   "execution_count": 9,
   "id": "b94050bc",
   "metadata": {},
   "outputs": [],
   "source": [
    "# replacing columns that are not taken for further analysis\n",
    "df_ams.drop(columns=['TITLE','File','URL','OFFERED SINCE','CONTACT DETAILS','TIMESTAMP','DESCRIPTION'],axis=1,inplace=True)"
   ]
  },
  {
   "cell_type": "code",
   "execution_count": 10,
   "id": "37646422",
   "metadata": {},
   "outputs": [],
   "source": [
    "# Missing Values"
   ]
  },
  {
   "cell_type": "code",
   "execution_count": 11,
   "id": "1dfaf34c",
   "metadata": {},
   "outputs": [],
   "source": [
    "# replacing all non available datas with NaN\n",
    "df_ams['INTERIOR'] = df_ams['INTERIOR'].replace('Interior is not available',np.nan)\n",
    "df_ams['AVAILABILITY'] = df_ams['AVAILABILITY'].replace('Not available to book',np.nan)\n",
    "df_ams['SPECIFICATION'] = df_ams['SPECIFICATION'].replace('Specifics are not available',np.nan)\n",
    "df_ams['UPKEEP STATUS'] = df_ams['UPKEEP STATUS'].replace('Upkeep is not available',np.nan)\n",
    "df_ams['VOLUME'] = df_ams['VOLUME'].replace('Volume is not available',np.nan)\n",
    "df_ams['LOCATION TYPE'] = df_ams['LOCATION TYPE'].replace('Location type is not available',np.nan)\n",
    "df_ams['NUMBER OF BEDROOMS'] = df_ams['NUMBER OF BEDROOMS'].replace('Number of bedrooms is not available',np.nan)\n",
    "df_ams['NUMBER OF BATHROOMS'] = df_ams['NUMBER OF BATHROOMS'].replace('Number of bathrooms is not available',np.nan)\n",
    "df_ams['NUMBER OF FLOORS'] = df_ams['NUMBER OF FLOORS'].replace('Number of floors is not available',np.nan)\n",
    "df_ams['DETAILS OF BALCONY'] = df_ams['DETAILS OF BALCONY'].replace('Details of balcony is not available',np.nan)\n",
    "df_ams['DETAILS OF GARDEN'] = df_ams['DETAILS OF GARDEN'].replace('Details of garden is not available',np.nan)\n",
    "df_ams['DETAILS OF STORAGE'] = df_ams['DETAILS OF STORAGE'].replace('Details of storage is not available',np.nan)\n",
    "df_ams['DESCRIPTION OF STORAGE'] = df_ams['DESCRIPTION OF STORAGE'].replace('Details of description of the storage is not available',np.nan)\n",
    "df_ams['GARAGE'] = df_ams['GARAGE'].replace('Details of garage is not available',np.nan)\n"
   ]
  },
  {
   "cell_type": "code",
   "execution_count": 12,
   "id": "943fbc0a",
   "metadata": {},
   "outputs": [],
   "source": [
    "# creating a list of columns with null values\n",
    "df_col_null = df_ams.columns[df_ams.isna().any()==True].tolist()"
   ]
  },
  {
   "cell_type": "code",
   "execution_count": 13,
   "id": "5bfd7a2d",
   "metadata": {},
   "outputs": [
    {
     "data": {
      "text/plain": [
       "INTERIOR                  166\n",
       "AVAILABILITY              383\n",
       "SPECIFICATION             898\n",
       "UPKEEP STATUS             234\n",
       "VOLUME                     61\n",
       "LOCATION TYPE             786\n",
       "NUMBER OF BEDROOMS         19\n",
       "NUMBER OF BATHROOMS       189\n",
       "NUMBER OF FLOORS           50\n",
       "DETAILS OF BALCONY        154\n",
       "DETAILS OF GARDEN         565\n",
       "DETAILS OF STORAGE        564\n",
       "DESCRIPTION OF STORAGE    853\n",
       "GARAGE                    106\n",
       "dtype: int64"
      ]
     },
     "execution_count": 13,
     "metadata": {},
     "output_type": "execute_result"
    }
   ],
   "source": [
    "df_ams[df_col_null].isna().sum()"
   ]
  },
  {
   "cell_type": "code",
   "execution_count": 14,
   "id": "efe29e64",
   "metadata": {},
   "outputs": [],
   "source": [
    "# dropping columns with less data available\n",
    "df_ams.drop(columns=['AVAILABILITY','SPECIFICATION','LOCATION TYPE','DESCRIPTION OF STORAGE'],axis=1,inplace=True)"
   ]
  },
  {
   "cell_type": "code",
   "execution_count": 15,
   "id": "0f98b806",
   "metadata": {},
   "outputs": [],
   "source": [
    "# filling null values of each column with the mode of respective column\n",
    "df_ams['VOLUME'].fillna(df_ams['VOLUME'].mode()[0],inplace=True)\n",
    "df_ams['NUMBER OF BEDROOMS'].fillna(df_ams['NUMBER OF BEDROOMS'].mode()[0],inplace=True)\n",
    "df_ams['NUMBER OF BATHROOMS'].fillna(df_ams['NUMBER OF BATHROOMS'].mode()[0],inplace=True)  \n",
    "df_ams['NUMBER OF FLOORS'].fillna(df_ams['NUMBER OF FLOORS'].mode()[0],inplace=True)\n",
    "df_ams['GARAGE'].fillna(df_ams['GARAGE'].mode()[0],inplace=True)\n",
    "df_ams['DETAILS OF BALCONY'].fillna(df_ams['DETAILS OF BALCONY'].mode()[0],inplace=True)\n",
    "df_ams['UPKEEP STATUS'].fillna(df_ams['UPKEEP STATUS'].mode()[0],inplace=True)\n",
    "df_ams['INTERIOR'].fillna(df_ams['INTERIOR'].mode()[0],inplace=True)\n",
    "df_ams['DETAILS OF STORAGE'].fillna(df_ams['DETAILS OF STORAGE'].mode()[0],inplace=True)\n",
    "df_ams['DETAILS OF GARDEN'].fillna(df_ams['DETAILS OF GARDEN'].mode()[0],inplace=True)"
   ]
  },
  {
   "cell_type": "markdown",
   "id": "5c43b54b",
   "metadata": {},
   "source": [
    "# Feature Engineering"
   ]
  },
  {
   "cell_type": "code",
   "execution_count": 16,
   "id": "659e9bff",
   "metadata": {},
   "outputs": [
    {
     "data": {
      "text/plain": [
       "array(['Not present', 'Present (15 m², located on the north-west)',\n",
       "       'Present (25 m²)', 'Present (118 m², located on the north-east)',\n",
       "       'Present (221 m², located on the west)', 'Present (44 m²)',\n",
       "       'Present (96 m²)', 'Present',\n",
       "       'Present (10 m², located on the north)', 'Present (47 m²)',\n",
       "       'Present (located on the south-east)',\n",
       "       'Present (90 m², located on the south)',\n",
       "       'Present (12 m², located on the north)', 'Present (16 m²)',\n",
       "       'Present (25 m², located on the north-west)', 'Present (12 m²)',\n",
       "       'Present (30 m², located on the north)',\n",
       "       'Present (11 m², located on the south-west)', 'Present (50 m²)',\n",
       "       'Present (7 m²)', 'Present (60 m², located on the south)',\n",
       "       'Present (50 m², located on the south-west)',\n",
       "       'Present (100 m², located on the south-west)',\n",
       "       'Present (42 m², located on the north-east)', 'Present (10 m²)',\n",
       "       'Present (located on the south)', 'Present (35 m²)',\n",
       "       'Present (120 m², located on the south)', 'Present (48 m²)',\n",
       "       'Present (9 m²)', 'Present (73 m²)',\n",
       "       'Present (60 m², located on the south-west)', 'Present (20 m²)',\n",
       "       'Present (13 m², located on the south)',\n",
       "       'Present (63 m², located on the north)',\n",
       "       'Present (78 m², located on the north)', 'Present (40 m²)',\n",
       "       'Present (30 m²)', 'Present (104 m², located on the west)',\n",
       "       'Present (27 m²)', 'Present (150 m², located on the south)',\n",
       "       'Present (75 m²)', 'Present (50 m², located on the north-east)',\n",
       "       'Present (80 m²)', 'Present (169 m², located on the south)',\n",
       "       'Present (20 m², located on the west)', 'Present (70 m²)',\n",
       "       'Present (60 m²)', 'Present (38 m², located on the south)',\n",
       "       'Present (24 m², located on the north-east)',\n",
       "       'Present (10 m², located on the south)', 'Present (15 m²)',\n",
       "       'Present (25 m², located on the west)', 'Present (100 m²)',\n",
       "       'Present (15 m², located on the south-west)',\n",
       "       'Present (8 m², located on the south-west)',\n",
       "       'Present (90 m², located on the west)',\n",
       "       'Present (35 m², located on the south)', 'Present (49 m²)',\n",
       "       'Present (30 m², located on the south-west)',\n",
       "       'Present (14 m², located on the east)',\n",
       "       'Present (168 m², located on the east)', 'Present (120 m²)',\n",
       "       'Present (130 m², located on the south-west)', 'Present (140 m²)',\n",
       "       'Present (77 m², located on the south-east)', 'Present (4 m²)',\n",
       "       'Present (15 m², located on the north)'], dtype=object)"
      ]
     },
     "execution_count": 16,
     "metadata": {},
     "output_type": "execute_result"
    }
   ],
   "source": [
    "df_ams['DETAILS OF GARDEN'].unique()\n",
    "# availability of garden,area of garden,location of garden can be extracted from this column"
   ]
  },
  {
   "cell_type": "code",
   "execution_count": 17,
   "id": "87baec84",
   "metadata": {},
   "outputs": [],
   "source": [
    "# splitting the column into 2 different columns with '('\n",
    "df_ams[[\"AVAILABILITY OF GARDEN\",'AREA OF GARDEN']] = df_ams[\"DETAILS OF GARDEN\"].str.split(\"(\", expand = True)"
   ]
  },
  {
   "cell_type": "code",
   "execution_count": 18,
   "id": "f2df3cf3",
   "metadata": {},
   "outputs": [
    {
     "data": {
      "text/html": [
       "<div>\n",
       "<style scoped>\n",
       "    .dataframe tbody tr th:only-of-type {\n",
       "        vertical-align: middle;\n",
       "    }\n",
       "\n",
       "    .dataframe tbody tr th {\n",
       "        vertical-align: top;\n",
       "    }\n",
       "\n",
       "    .dataframe thead th {\n",
       "        text-align: right;\n",
       "    }\n",
       "</style>\n",
       "<table border=\"1\" class=\"dataframe\">\n",
       "  <thead>\n",
       "    <tr style=\"text-align: right;\">\n",
       "      <th></th>\n",
       "      <th>AVAILABILITY OF GARDEN</th>\n",
       "      <th>AREA OF GARDEN</th>\n",
       "    </tr>\n",
       "  </thead>\n",
       "  <tbody>\n",
       "    <tr>\n",
       "      <th>0</th>\n",
       "      <td>Not present</td>\n",
       "      <td>None</td>\n",
       "    </tr>\n",
       "    <tr>\n",
       "      <th>1</th>\n",
       "      <td>Not present</td>\n",
       "      <td>None</td>\n",
       "    </tr>\n",
       "    <tr>\n",
       "      <th>2</th>\n",
       "      <td>Not present</td>\n",
       "      <td>None</td>\n",
       "    </tr>\n",
       "    <tr>\n",
       "      <th>3</th>\n",
       "      <td>Not present</td>\n",
       "      <td>None</td>\n",
       "    </tr>\n",
       "    <tr>\n",
       "      <th>4</th>\n",
       "      <td>Present</td>\n",
       "      <td>15 m², located on the north-west)</td>\n",
       "    </tr>\n",
       "  </tbody>\n",
       "</table>\n",
       "</div>"
      ],
      "text/plain": [
       "  AVAILABILITY OF GARDEN                     AREA OF GARDEN\n",
       "0            Not present                               None\n",
       "1            Not present                               None\n",
       "2            Not present                               None\n",
       "3            Not present                               None\n",
       "4               Present   15 m², located on the north-west)"
      ]
     },
     "execution_count": 18,
     "metadata": {},
     "output_type": "execute_result"
    }
   ],
   "source": [
    "df_ams[[\"AVAILABILITY OF GARDEN\",'AREA OF GARDEN']].head()"
   ]
  },
  {
   "cell_type": "code",
   "execution_count": 19,
   "id": "926eaa0b",
   "metadata": {},
   "outputs": [
    {
     "data": {
      "text/plain": [
       "array(['Not present', 'Present ', 'Present'], dtype=object)"
      ]
     },
     "execution_count": 19,
     "metadata": {},
     "output_type": "execute_result"
    }
   ],
   "source": [
    "df_ams['AVAILABILITY OF GARDEN'].unique()"
   ]
  },
  {
   "cell_type": "code",
   "execution_count": 20,
   "id": "40ffa2d0",
   "metadata": {},
   "outputs": [],
   "source": [
    "df_ams['AVAILABILITY OF GARDEN']=df_ams['AVAILABILITY OF GARDEN'].replace(['Present '],'Present')"
   ]
  },
  {
   "cell_type": "code",
   "execution_count": 21,
   "id": "876f71aa",
   "metadata": {},
   "outputs": [],
   "source": [
    "# splitting the column 'Area of Garden' into 2 different columns of area and location\n",
    "df_ams[['AREA OF GARDEN IN SQ METRE','g1']] = df_ams[\"AREA OF GARDEN\"].str.split(\"m²\", expand = True)"
   ]
  },
  {
   "cell_type": "code",
   "execution_count": 22,
   "id": "cafe244d",
   "metadata": {},
   "outputs": [
    {
     "data": {
      "text/html": [
       "<div>\n",
       "<style scoped>\n",
       "    .dataframe tbody tr th:only-of-type {\n",
       "        vertical-align: middle;\n",
       "    }\n",
       "\n",
       "    .dataframe tbody tr th {\n",
       "        vertical-align: top;\n",
       "    }\n",
       "\n",
       "    .dataframe thead th {\n",
       "        text-align: right;\n",
       "    }\n",
       "</style>\n",
       "<table border=\"1\" class=\"dataframe\">\n",
       "  <thead>\n",
       "    <tr style=\"text-align: right;\">\n",
       "      <th></th>\n",
       "      <th>AREA OF GARDEN IN SQ METRE</th>\n",
       "      <th>g1</th>\n",
       "    </tr>\n",
       "  </thead>\n",
       "  <tbody>\n",
       "    <tr>\n",
       "      <th>0</th>\n",
       "      <td>None</td>\n",
       "      <td>None</td>\n",
       "    </tr>\n",
       "    <tr>\n",
       "      <th>1</th>\n",
       "      <td>None</td>\n",
       "      <td>None</td>\n",
       "    </tr>\n",
       "    <tr>\n",
       "      <th>2</th>\n",
       "      <td>None</td>\n",
       "      <td>None</td>\n",
       "    </tr>\n",
       "    <tr>\n",
       "      <th>3</th>\n",
       "      <td>None</td>\n",
       "      <td>None</td>\n",
       "    </tr>\n",
       "    <tr>\n",
       "      <th>4</th>\n",
       "      <td>15</td>\n",
       "      <td>, located on the north-west)</td>\n",
       "    </tr>\n",
       "  </tbody>\n",
       "</table>\n",
       "</div>"
      ],
      "text/plain": [
       "  AREA OF GARDEN IN SQ METRE                            g1\n",
       "0                       None                          None\n",
       "1                       None                          None\n",
       "2                       None                          None\n",
       "3                       None                          None\n",
       "4                        15   , located on the north-west)"
      ]
     },
     "execution_count": 22,
     "metadata": {},
     "output_type": "execute_result"
    }
   ],
   "source": [
    "df_ams[['AREA OF GARDEN IN SQ METRE','g1']].head()"
   ]
  },
  {
   "cell_type": "code",
   "execution_count": 23,
   "id": "4f34a22d",
   "metadata": {},
   "outputs": [],
   "source": [
    "df_ams.drop(columns=['AREA OF GARDEN','DETAILS OF GARDEN'],axis=1,inplace=True) "
   ]
  },
  {
   "cell_type": "code",
   "execution_count": 24,
   "id": "5ecc56c5",
   "metadata": {},
   "outputs": [
    {
     "data": {
      "text/plain": [
       "array([None, ', located on the north-west)', ')',\n",
       "       ', located on the north-east)', ', located on the west)',\n",
       "       ', located on the north)', ', located on the south)',\n",
       "       ', located on the south-west)', ', located on the east)',\n",
       "       ', located on the south-east)'], dtype=object)"
      ]
     },
     "execution_count": 24,
     "metadata": {},
     "output_type": "execute_result"
    }
   ],
   "source": [
    "df_ams.rename(columns={'g1':'GARDEN LOCATION'},inplace=True)\n",
    "df_ams['GARDEN LOCATION'].unique()"
   ]
  },
  {
   "cell_type": "code",
   "execution_count": 25,
   "id": "9c15f7a2",
   "metadata": {},
   "outputs": [
    {
     "data": {
      "text/plain": [
       "array([None, ' located on the north-west', '',\n",
       "       ' located on the north-east', ' located on the west',\n",
       "       ' located on the north', ' located on the south',\n",
       "       ' located on the south-west', ' located on the east',\n",
       "       ' located on the south-east'], dtype=object)"
      ]
     },
     "execution_count": 25,
     "metadata": {},
     "output_type": "execute_result"
    }
   ],
   "source": [
    "# removing unnecessary characters from the string\n",
    "df_ams['GARDEN LOCATION'] = df_ams['GARDEN LOCATION'].str[1:-1]\n",
    "df_ams['GARDEN LOCATION'].unique()"
   ]
  },
  {
   "cell_type": "code",
   "execution_count": 26,
   "id": "b9158c9a",
   "metadata": {},
   "outputs": [],
   "source": [
    "df_ams['GARDEN LOCATION'] = df_ams['GARDEN LOCATION'].replace('',np.nan)"
   ]
  },
  {
   "cell_type": "code",
   "execution_count": null,
   "id": "ef9ea5ac",
   "metadata": {},
   "outputs": [],
   "source": []
  },
  {
   "cell_type": "code",
   "execution_count": 27,
   "id": "df9203f1",
   "metadata": {},
   "outputs": [
    {
     "data": {
      "text/plain": [
       "0    1017 GE (Grachtengordel-Zuid)\n",
       "1    1016 HV (Grachtengordel-West)\n",
       "2    1017 JV (Grachtengordel-Zuid)\n",
       "3    1015 DE (Grachtengordel-West)\n",
       "4                1015 SV (Jordaan)\n",
       "Name: LOCATION, dtype: object"
      ]
     },
     "execution_count": 27,
     "metadata": {},
     "output_type": "execute_result"
    }
   ],
   "source": [
    "# number similar to pin available and splitting it from the column 'location'\n",
    "df_ams['LOCATION'].head()"
   ]
  },
  {
   "cell_type": "code",
   "execution_count": 28,
   "id": "12b58b27",
   "metadata": {},
   "outputs": [
    {
     "data": {
      "text/html": [
       "<div>\n",
       "<style scoped>\n",
       "    .dataframe tbody tr th:only-of-type {\n",
       "        vertical-align: middle;\n",
       "    }\n",
       "\n",
       "    .dataframe tbody tr th {\n",
       "        vertical-align: top;\n",
       "    }\n",
       "\n",
       "    .dataframe thead th {\n",
       "        text-align: right;\n",
       "    }\n",
       "</style>\n",
       "<table border=\"1\" class=\"dataframe\">\n",
       "  <thead>\n",
       "    <tr style=\"text-align: right;\">\n",
       "      <th></th>\n",
       "      <th>LOCATION PIN</th>\n",
       "      <th>A</th>\n",
       "      <th>B</th>\n",
       "      <th>C</th>\n",
       "      <th>D</th>\n",
       "    </tr>\n",
       "  </thead>\n",
       "  <tbody>\n",
       "    <tr>\n",
       "      <th>0</th>\n",
       "      <td>1017</td>\n",
       "      <td>GE</td>\n",
       "      <td>(Grachtengordel-Zuid)</td>\n",
       "      <td>None</td>\n",
       "      <td>None</td>\n",
       "    </tr>\n",
       "    <tr>\n",
       "      <th>1</th>\n",
       "      <td>1016</td>\n",
       "      <td>HV</td>\n",
       "      <td>(Grachtengordel-West)</td>\n",
       "      <td>None</td>\n",
       "      <td>None</td>\n",
       "    </tr>\n",
       "    <tr>\n",
       "      <th>2</th>\n",
       "      <td>1017</td>\n",
       "      <td>JV</td>\n",
       "      <td>(Grachtengordel-Zuid)</td>\n",
       "      <td>None</td>\n",
       "      <td>None</td>\n",
       "    </tr>\n",
       "    <tr>\n",
       "      <th>3</th>\n",
       "      <td>1015</td>\n",
       "      <td>DE</td>\n",
       "      <td>(Grachtengordel-West)</td>\n",
       "      <td>None</td>\n",
       "      <td>None</td>\n",
       "    </tr>\n",
       "    <tr>\n",
       "      <th>4</th>\n",
       "      <td>1015</td>\n",
       "      <td>SV</td>\n",
       "      <td>(Jordaan)</td>\n",
       "      <td>None</td>\n",
       "      <td>None</td>\n",
       "    </tr>\n",
       "    <tr>\n",
       "      <th>...</th>\n",
       "      <td>...</td>\n",
       "      <td>...</td>\n",
       "      <td>...</td>\n",
       "      <td>...</td>\n",
       "      <td>...</td>\n",
       "    </tr>\n",
       "    <tr>\n",
       "      <th>987</th>\n",
       "      <td>1019</td>\n",
       "      <td>XZ</td>\n",
       "      <td>(Oostelijk</td>\n",
       "      <td>Havengebied)</td>\n",
       "      <td>None</td>\n",
       "    </tr>\n",
       "    <tr>\n",
       "      <th>988</th>\n",
       "      <td>1033</td>\n",
       "      <td>PG</td>\n",
       "      <td>(Noordelijke</td>\n",
       "      <td>IJ-oevers</td>\n",
       "      <td>West)</td>\n",
       "    </tr>\n",
       "    <tr>\n",
       "      <th>989</th>\n",
       "      <td>1031</td>\n",
       "      <td>KE</td>\n",
       "      <td>(Noordelijke</td>\n",
       "      <td>IJ-oevers</td>\n",
       "      <td>West)</td>\n",
       "    </tr>\n",
       "    <tr>\n",
       "      <th>990</th>\n",
       "      <td>1031</td>\n",
       "      <td>HD</td>\n",
       "      <td>(Noordelijke</td>\n",
       "      <td>IJ-oevers</td>\n",
       "      <td>West)</td>\n",
       "    </tr>\n",
       "    <tr>\n",
       "      <th>991</th>\n",
       "      <td>1013</td>\n",
       "      <td>BD</td>\n",
       "      <td>(Houthavens)</td>\n",
       "      <td>None</td>\n",
       "      <td>None</td>\n",
       "    </tr>\n",
       "  </tbody>\n",
       "</table>\n",
       "<p>992 rows × 5 columns</p>\n",
       "</div>"
      ],
      "text/plain": [
       "    LOCATION PIN   A                      B             C      D\n",
       "0           1017  GE  (Grachtengordel-Zuid)          None   None\n",
       "1           1016  HV  (Grachtengordel-West)          None   None\n",
       "2           1017  JV  (Grachtengordel-Zuid)          None   None\n",
       "3           1015  DE  (Grachtengordel-West)          None   None\n",
       "4           1015  SV              (Jordaan)          None   None\n",
       "..           ...  ..                    ...           ...    ...\n",
       "987         1019  XZ             (Oostelijk  Havengebied)   None\n",
       "988         1033  PG           (Noordelijke     IJ-oevers  West)\n",
       "989         1031  KE           (Noordelijke     IJ-oevers  West)\n",
       "990         1031  HD           (Noordelijke     IJ-oevers  West)\n",
       "991         1013  BD           (Houthavens)          None   None\n",
       "\n",
       "[992 rows x 5 columns]"
      ]
     },
     "execution_count": 28,
     "metadata": {},
     "output_type": "execute_result"
    }
   ],
   "source": [
    "df_ams[['LOCATION PIN','A','B','C','D']] = df_ams[\"LOCATION\"].str.split(\" \", expand = True)\n",
    "df_ams[['LOCATION PIN','A','B','C','D']]"
   ]
  },
  {
   "cell_type": "code",
   "execution_count": 29,
   "id": "2b9f27e5",
   "metadata": {},
   "outputs": [],
   "source": [
    "# dropping all other columns after keeping the pin column\n",
    "df_ams.drop(columns=['A','B','C','D','LOCATION'],axis=1,inplace=True)"
   ]
  },
  {
   "cell_type": "code",
   "execution_count": 30,
   "id": "3454f671",
   "metadata": {},
   "outputs": [
    {
     "data": {
      "text/plain": [
       "Index(['PRICE PER MONTH', 'AREA IN SQ METRE', 'NUMBER OF ROOMS', 'INTERIOR',\n",
       "       'UPKEEP STATUS', 'VOLUME', 'TYPE', 'CONSTRUCTION TYPE',\n",
       "       'CONSTRUCTION YEAR', 'NUMBER OF BEDROOMS', 'NUMBER OF BATHROOMS',\n",
       "       'NUMBER OF FLOORS', 'DETAILS OF BALCONY', 'DETAILS OF STORAGE',\n",
       "       'GARAGE', 'AVAILABILITY OF GARDEN', 'AREA OF GARDEN IN SQ METRE',\n",
       "       'GARDEN LOCATION', 'LOCATION PIN'],\n",
       "      dtype='object')"
      ]
     },
     "execution_count": 30,
     "metadata": {},
     "output_type": "execute_result"
    }
   ],
   "source": [
    "df_ams.columns"
   ]
  },
  {
   "cell_type": "code",
   "execution_count": null,
   "id": "1e632694",
   "metadata": {},
   "outputs": [],
   "source": []
  },
  {
   "cell_type": "code",
   "execution_count": 31,
   "id": "8bf5628e",
   "metadata": {},
   "outputs": [
    {
     "data": {
      "text/plain": [
       "AREA OF GARDEN IN SQ METRE    893\n",
       "GARDEN LOCATION               953\n",
       "dtype: int64"
      ]
     },
     "execution_count": 31,
     "metadata": {},
     "output_type": "execute_result"
    }
   ],
   "source": [
    "df_col_null = df_ams.columns[df_ams.isna().any()==True].tolist()\n",
    "df_ams[df_col_null].isna().sum()"
   ]
  },
  {
   "cell_type": "code",
   "execution_count": 32,
   "id": "a03494ee",
   "metadata": {},
   "outputs": [],
   "source": [
    "# removing columns because of low availability of data\n",
    "df_ams.drop(columns=['AREA OF GARDEN IN SQ METRE','GARDEN LOCATION'],axis=1,inplace=True)"
   ]
  },
  {
   "cell_type": "code",
   "execution_count": 33,
   "id": "44fd3a51",
   "metadata": {},
   "outputs": [],
   "source": [
    "# filling null values with the mode value\n",
    "df_ams['AVAILABILITY OF GARDEN'].fillna(df_ams['AVAILABILITY OF GARDEN'].mode()[0],inplace=True)"
   ]
  },
  {
   "cell_type": "code",
   "execution_count": null,
   "id": "6883e6e9",
   "metadata": {},
   "outputs": [],
   "source": []
  },
  {
   "cell_type": "code",
   "execution_count": 34,
   "id": "7fdc47dc",
   "metadata": {},
   "outputs": [
    {
     "data": {
      "text/plain": [
       "Index(['PRICE PER MONTH', 'AREA IN SQ METRE', 'NUMBER OF ROOMS', 'INTERIOR',\n",
       "       'UPKEEP STATUS', 'VOLUME', 'TYPE', 'CONSTRUCTION TYPE',\n",
       "       'CONSTRUCTION YEAR', 'NUMBER OF BEDROOMS', 'NUMBER OF BATHROOMS',\n",
       "       'NUMBER OF FLOORS', 'DETAILS OF BALCONY', 'DETAILS OF STORAGE',\n",
       "       'GARAGE', 'AVAILABILITY OF GARDEN', 'LOCATION PIN'],\n",
       "      dtype='object')"
      ]
     },
     "execution_count": 34,
     "metadata": {},
     "output_type": "execute_result"
    }
   ],
   "source": [
    "df_ams.columns"
   ]
  },
  {
   "cell_type": "markdown",
   "id": "edb16fea",
   "metadata": {},
   "source": [
    "# Categorical Features"
   ]
  },
  {
   "cell_type": "code",
   "execution_count": 35,
   "id": "53d7f898",
   "metadata": {},
   "outputs": [],
   "source": [
    "# LABEL ENCODING"
   ]
  },
  {
   "cell_type": "code",
   "execution_count": 36,
   "id": "f9bc489a",
   "metadata": {},
   "outputs": [
    {
     "data": {
      "text/plain": [
       "array(['Good', 'Excellent', 'Reasonable'], dtype=object)"
      ]
     },
     "execution_count": 36,
     "metadata": {},
     "output_type": "execute_result"
    }
   ],
   "source": [
    "df_ams['UPKEEP STATUS'].unique()"
   ]
  },
  {
   "cell_type": "code",
   "execution_count": 37,
   "id": "e0415a0c",
   "metadata": {},
   "outputs": [
    {
     "data": {
      "text/plain": [
       "array(['Apartment', 'House', 'Studio'], dtype=object)"
      ]
     },
     "execution_count": 37,
     "metadata": {},
     "output_type": "execute_result"
    }
   ],
   "source": [
    "df_ams['TYPE'].unique()"
   ]
  },
  {
   "cell_type": "code",
   "execution_count": 38,
   "id": "14b24d60",
   "metadata": {},
   "outputs": [
    {
     "data": {
      "text/plain": [
       "array(['Upholstered or furnished', 'Upholstered', 'Furnished', 'Shell'],\n",
       "      dtype=object)"
      ]
     },
     "execution_count": 38,
     "metadata": {},
     "output_type": "execute_result"
    }
   ],
   "source": [
    "df_ams['INTERIOR'].unique()"
   ]
  },
  {
   "cell_type": "code",
   "execution_count": 39,
   "id": "f9632d55",
   "metadata": {},
   "outputs": [],
   "source": [
    "# encoding categories into 0,1,2,...\n",
    "le = LabelEncoder()\n",
    "df_ams['INTERIOR']=le.fit_transform(df_ams['INTERIOR'])\n",
    "df_ams['TYPE']=le.fit_transform(df_ams['TYPE'])\n",
    "df_ams['UPKEEP STATUS']=le.fit_transform(df_ams['UPKEEP STATUS'])"
   ]
  },
  {
   "cell_type": "code",
   "execution_count": null,
   "id": "324ff5d8",
   "metadata": {},
   "outputs": [],
   "source": []
  },
  {
   "cell_type": "code",
   "execution_count": 40,
   "id": "26771d40",
   "metadata": {},
   "outputs": [],
   "source": [
    "# ONE HOT ENCODING"
   ]
  },
  {
   "cell_type": "code",
   "execution_count": 41,
   "id": "b1f1abab",
   "metadata": {},
   "outputs": [
    {
     "data": {
      "text/plain": [
       "array(['Not present', 'Present'], dtype=object)"
      ]
     },
     "execution_count": 41,
     "metadata": {},
     "output_type": "execute_result"
    }
   ],
   "source": [
    "df_ams['DETAILS OF BALCONY'].unique()"
   ]
  },
  {
   "cell_type": "code",
   "execution_count": 42,
   "id": "6954a19d",
   "metadata": {},
   "outputs": [
    {
     "data": {
      "text/plain": [
       "array(['Yes', 'No'], dtype=object)"
      ]
     },
     "execution_count": 42,
     "metadata": {},
     "output_type": "execute_result"
    }
   ],
   "source": [
    "df_ams['GARAGE'].unique()"
   ]
  },
  {
   "cell_type": "code",
   "execution_count": 43,
   "id": "5b301c20",
   "metadata": {},
   "outputs": [
    {
     "data": {
      "text/plain": [
       "array(['Not present', 'Present'], dtype=object)"
      ]
     },
     "execution_count": 43,
     "metadata": {},
     "output_type": "execute_result"
    }
   ],
   "source": [
    "df_ams['DETAILS OF STORAGE'].unique()"
   ]
  },
  {
   "cell_type": "code",
   "execution_count": 44,
   "id": "65111138",
   "metadata": {},
   "outputs": [
    {
     "data": {
      "text/plain": [
       "array(['Existing building', 'New development'], dtype=object)"
      ]
     },
     "execution_count": 44,
     "metadata": {},
     "output_type": "execute_result"
    }
   ],
   "source": [
    "df_ams['CONSTRUCTION TYPE'].unique()"
   ]
  },
  {
   "cell_type": "code",
   "execution_count": 45,
   "id": "adcb8573",
   "metadata": {},
   "outputs": [],
   "source": [
    "dum_cols=df_ams[['DETAILS OF BALCONY','GARAGE','DETAILS OF STORAGE','CONSTRUCTION TYPE','AVAILABILITY OF GARDEN']]"
   ]
  },
  {
   "cell_type": "code",
   "execution_count": 46,
   "id": "907b6435",
   "metadata": {},
   "outputs": [
    {
     "data": {
      "text/html": [
       "<div>\n",
       "<style scoped>\n",
       "    .dataframe tbody tr th:only-of-type {\n",
       "        vertical-align: middle;\n",
       "    }\n",
       "\n",
       "    .dataframe tbody tr th {\n",
       "        vertical-align: top;\n",
       "    }\n",
       "\n",
       "    .dataframe thead th {\n",
       "        text-align: right;\n",
       "    }\n",
       "</style>\n",
       "<table border=\"1\" class=\"dataframe\">\n",
       "  <thead>\n",
       "    <tr style=\"text-align: right;\">\n",
       "      <th></th>\n",
       "      <th>DETAILS OF BALCONY_Not present</th>\n",
       "      <th>DETAILS OF BALCONY_Present</th>\n",
       "      <th>GARAGE_No</th>\n",
       "      <th>GARAGE_Yes</th>\n",
       "      <th>DETAILS OF STORAGE_Not present</th>\n",
       "      <th>DETAILS OF STORAGE_Present</th>\n",
       "      <th>CONSTRUCTION TYPE_Existing building</th>\n",
       "      <th>CONSTRUCTION TYPE_New development</th>\n",
       "      <th>AVAILABILITY OF GARDEN_Not present</th>\n",
       "      <th>AVAILABILITY OF GARDEN_Present</th>\n",
       "    </tr>\n",
       "  </thead>\n",
       "  <tbody>\n",
       "    <tr>\n",
       "      <th>0</th>\n",
       "      <td>1</td>\n",
       "      <td>0</td>\n",
       "      <td>0</td>\n",
       "      <td>1</td>\n",
       "      <td>1</td>\n",
       "      <td>0</td>\n",
       "      <td>1</td>\n",
       "      <td>0</td>\n",
       "      <td>1</td>\n",
       "      <td>0</td>\n",
       "    </tr>\n",
       "    <tr>\n",
       "      <th>1</th>\n",
       "      <td>1</td>\n",
       "      <td>0</td>\n",
       "      <td>0</td>\n",
       "      <td>1</td>\n",
       "      <td>1</td>\n",
       "      <td>0</td>\n",
       "      <td>1</td>\n",
       "      <td>0</td>\n",
       "      <td>1</td>\n",
       "      <td>0</td>\n",
       "    </tr>\n",
       "    <tr>\n",
       "      <th>2</th>\n",
       "      <td>1</td>\n",
       "      <td>0</td>\n",
       "      <td>0</td>\n",
       "      <td>1</td>\n",
       "      <td>1</td>\n",
       "      <td>0</td>\n",
       "      <td>1</td>\n",
       "      <td>0</td>\n",
       "      <td>1</td>\n",
       "      <td>0</td>\n",
       "    </tr>\n",
       "    <tr>\n",
       "      <th>3</th>\n",
       "      <td>1</td>\n",
       "      <td>0</td>\n",
       "      <td>0</td>\n",
       "      <td>1</td>\n",
       "      <td>1</td>\n",
       "      <td>0</td>\n",
       "      <td>1</td>\n",
       "      <td>0</td>\n",
       "      <td>1</td>\n",
       "      <td>0</td>\n",
       "    </tr>\n",
       "    <tr>\n",
       "      <th>4</th>\n",
       "      <td>1</td>\n",
       "      <td>0</td>\n",
       "      <td>0</td>\n",
       "      <td>1</td>\n",
       "      <td>1</td>\n",
       "      <td>0</td>\n",
       "      <td>1</td>\n",
       "      <td>0</td>\n",
       "      <td>0</td>\n",
       "      <td>1</td>\n",
       "    </tr>\n",
       "    <tr>\n",
       "      <th>...</th>\n",
       "      <td>...</td>\n",
       "      <td>...</td>\n",
       "      <td>...</td>\n",
       "      <td>...</td>\n",
       "      <td>...</td>\n",
       "      <td>...</td>\n",
       "      <td>...</td>\n",
       "      <td>...</td>\n",
       "      <td>...</td>\n",
       "      <td>...</td>\n",
       "    </tr>\n",
       "    <tr>\n",
       "      <th>987</th>\n",
       "      <td>0</td>\n",
       "      <td>1</td>\n",
       "      <td>1</td>\n",
       "      <td>0</td>\n",
       "      <td>1</td>\n",
       "      <td>0</td>\n",
       "      <td>0</td>\n",
       "      <td>1</td>\n",
       "      <td>1</td>\n",
       "      <td>0</td>\n",
       "    </tr>\n",
       "    <tr>\n",
       "      <th>988</th>\n",
       "      <td>0</td>\n",
       "      <td>1</td>\n",
       "      <td>1</td>\n",
       "      <td>0</td>\n",
       "      <td>1</td>\n",
       "      <td>0</td>\n",
       "      <td>0</td>\n",
       "      <td>1</td>\n",
       "      <td>1</td>\n",
       "      <td>0</td>\n",
       "    </tr>\n",
       "    <tr>\n",
       "      <th>989</th>\n",
       "      <td>0</td>\n",
       "      <td>1</td>\n",
       "      <td>0</td>\n",
       "      <td>1</td>\n",
       "      <td>0</td>\n",
       "      <td>1</td>\n",
       "      <td>1</td>\n",
       "      <td>0</td>\n",
       "      <td>1</td>\n",
       "      <td>0</td>\n",
       "    </tr>\n",
       "    <tr>\n",
       "      <th>990</th>\n",
       "      <td>0</td>\n",
       "      <td>1</td>\n",
       "      <td>1</td>\n",
       "      <td>0</td>\n",
       "      <td>1</td>\n",
       "      <td>0</td>\n",
       "      <td>0</td>\n",
       "      <td>1</td>\n",
       "      <td>1</td>\n",
       "      <td>0</td>\n",
       "    </tr>\n",
       "    <tr>\n",
       "      <th>991</th>\n",
       "      <td>0</td>\n",
       "      <td>1</td>\n",
       "      <td>1</td>\n",
       "      <td>0</td>\n",
       "      <td>1</td>\n",
       "      <td>0</td>\n",
       "      <td>0</td>\n",
       "      <td>1</td>\n",
       "      <td>1</td>\n",
       "      <td>0</td>\n",
       "    </tr>\n",
       "  </tbody>\n",
       "</table>\n",
       "<p>992 rows × 10 columns</p>\n",
       "</div>"
      ],
      "text/plain": [
       "     DETAILS OF BALCONY_Not present  DETAILS OF BALCONY_Present  GARAGE_No  \\\n",
       "0                                 1                           0          0   \n",
       "1                                 1                           0          0   \n",
       "2                                 1                           0          0   \n",
       "3                                 1                           0          0   \n",
       "4                                 1                           0          0   \n",
       "..                              ...                         ...        ...   \n",
       "987                               0                           1          1   \n",
       "988                               0                           1          1   \n",
       "989                               0                           1          0   \n",
       "990                               0                           1          1   \n",
       "991                               0                           1          1   \n",
       "\n",
       "     GARAGE_Yes  DETAILS OF STORAGE_Not present  DETAILS OF STORAGE_Present  \\\n",
       "0             1                               1                           0   \n",
       "1             1                               1                           0   \n",
       "2             1                               1                           0   \n",
       "3             1                               1                           0   \n",
       "4             1                               1                           0   \n",
       "..          ...                             ...                         ...   \n",
       "987           0                               1                           0   \n",
       "988           0                               1                           0   \n",
       "989           1                               0                           1   \n",
       "990           0                               1                           0   \n",
       "991           0                               1                           0   \n",
       "\n",
       "     CONSTRUCTION TYPE_Existing building  CONSTRUCTION TYPE_New development  \\\n",
       "0                                      1                                  0   \n",
       "1                                      1                                  0   \n",
       "2                                      1                                  0   \n",
       "3                                      1                                  0   \n",
       "4                                      1                                  0   \n",
       "..                                   ...                                ...   \n",
       "987                                    0                                  1   \n",
       "988                                    0                                  1   \n",
       "989                                    1                                  0   \n",
       "990                                    0                                  1   \n",
       "991                                    0                                  1   \n",
       "\n",
       "     AVAILABILITY OF GARDEN_Not present  AVAILABILITY OF GARDEN_Present  \n",
       "0                                     1                               0  \n",
       "1                                     1                               0  \n",
       "2                                     1                               0  \n",
       "3                                     1                               0  \n",
       "4                                     0                               1  \n",
       "..                                  ...                             ...  \n",
       "987                                   1                               0  \n",
       "988                                   1                               0  \n",
       "989                                   1                               0  \n",
       "990                                   1                               0  \n",
       "991                                   1                               0  \n",
       "\n",
       "[992 rows x 10 columns]"
      ]
     },
     "execution_count": 46,
     "metadata": {},
     "output_type": "execute_result"
    }
   ],
   "source": [
    "# encoding categories into binary values\n",
    "dum_ams=pd.get_dummies(dum_cols)\n",
    "dum_ams"
   ]
  },
  {
   "cell_type": "code",
   "execution_count": 47,
   "id": "1839206a",
   "metadata": {},
   "outputs": [],
   "source": [
    "dum_ams.drop(columns=['DETAILS OF BALCONY_Not present','GARAGE_No','DETAILS OF STORAGE_Not present','CONSTRUCTION TYPE_Existing building','AVAILABILITY OF GARDEN_Not present'],axis=1,inplace=True)"
   ]
  },
  {
   "cell_type": "code",
   "execution_count": 48,
   "id": "b6da6623",
   "metadata": {},
   "outputs": [],
   "source": [
    "dum_ams.rename(columns={'DETAILS OF BALCONY_Present':'AVAILABILITY OF BALCONY','GARAGE_Yes':'AVAILABILITY OF GARAGE','DETAILS OF STORAGE_Present':'AVAILABILITY OF STORAGE','CONSTRUCTION TYPE_New development':'NEW BUILDING','AVAILABILITY OF GARDEN_Present':'AVAILABILITY OF GARDEN'},inplace=True)"
   ]
  },
  {
   "cell_type": "code",
   "execution_count": 49,
   "id": "2643771c",
   "metadata": {},
   "outputs": [
    {
     "data": {
      "text/html": [
       "<div>\n",
       "<style scoped>\n",
       "    .dataframe tbody tr th:only-of-type {\n",
       "        vertical-align: middle;\n",
       "    }\n",
       "\n",
       "    .dataframe tbody tr th {\n",
       "        vertical-align: top;\n",
       "    }\n",
       "\n",
       "    .dataframe thead th {\n",
       "        text-align: right;\n",
       "    }\n",
       "</style>\n",
       "<table border=\"1\" class=\"dataframe\">\n",
       "  <thead>\n",
       "    <tr style=\"text-align: right;\">\n",
       "      <th></th>\n",
       "      <th>AVAILABILITY OF BALCONY</th>\n",
       "      <th>AVAILABILITY OF GARAGE</th>\n",
       "      <th>AVAILABILITY OF STORAGE</th>\n",
       "      <th>NEW BUILDING</th>\n",
       "      <th>AVAILABILITY OF GARDEN</th>\n",
       "    </tr>\n",
       "  </thead>\n",
       "  <tbody>\n",
       "    <tr>\n",
       "      <th>0</th>\n",
       "      <td>0</td>\n",
       "      <td>1</td>\n",
       "      <td>0</td>\n",
       "      <td>0</td>\n",
       "      <td>0</td>\n",
       "    </tr>\n",
       "    <tr>\n",
       "      <th>1</th>\n",
       "      <td>0</td>\n",
       "      <td>1</td>\n",
       "      <td>0</td>\n",
       "      <td>0</td>\n",
       "      <td>0</td>\n",
       "    </tr>\n",
       "    <tr>\n",
       "      <th>2</th>\n",
       "      <td>0</td>\n",
       "      <td>1</td>\n",
       "      <td>0</td>\n",
       "      <td>0</td>\n",
       "      <td>0</td>\n",
       "    </tr>\n",
       "    <tr>\n",
       "      <th>3</th>\n",
       "      <td>0</td>\n",
       "      <td>1</td>\n",
       "      <td>0</td>\n",
       "      <td>0</td>\n",
       "      <td>0</td>\n",
       "    </tr>\n",
       "    <tr>\n",
       "      <th>4</th>\n",
       "      <td>0</td>\n",
       "      <td>1</td>\n",
       "      <td>0</td>\n",
       "      <td>0</td>\n",
       "      <td>1</td>\n",
       "    </tr>\n",
       "    <tr>\n",
       "      <th>...</th>\n",
       "      <td>...</td>\n",
       "      <td>...</td>\n",
       "      <td>...</td>\n",
       "      <td>...</td>\n",
       "      <td>...</td>\n",
       "    </tr>\n",
       "    <tr>\n",
       "      <th>987</th>\n",
       "      <td>1</td>\n",
       "      <td>0</td>\n",
       "      <td>0</td>\n",
       "      <td>1</td>\n",
       "      <td>0</td>\n",
       "    </tr>\n",
       "    <tr>\n",
       "      <th>988</th>\n",
       "      <td>1</td>\n",
       "      <td>0</td>\n",
       "      <td>0</td>\n",
       "      <td>1</td>\n",
       "      <td>0</td>\n",
       "    </tr>\n",
       "    <tr>\n",
       "      <th>989</th>\n",
       "      <td>1</td>\n",
       "      <td>1</td>\n",
       "      <td>1</td>\n",
       "      <td>0</td>\n",
       "      <td>0</td>\n",
       "    </tr>\n",
       "    <tr>\n",
       "      <th>990</th>\n",
       "      <td>1</td>\n",
       "      <td>0</td>\n",
       "      <td>0</td>\n",
       "      <td>1</td>\n",
       "      <td>0</td>\n",
       "    </tr>\n",
       "    <tr>\n",
       "      <th>991</th>\n",
       "      <td>1</td>\n",
       "      <td>0</td>\n",
       "      <td>0</td>\n",
       "      <td>1</td>\n",
       "      <td>0</td>\n",
       "    </tr>\n",
       "  </tbody>\n",
       "</table>\n",
       "<p>992 rows × 5 columns</p>\n",
       "</div>"
      ],
      "text/plain": [
       "     AVAILABILITY OF BALCONY  AVAILABILITY OF GARAGE  AVAILABILITY OF STORAGE  \\\n",
       "0                          0                       1                        0   \n",
       "1                          0                       1                        0   \n",
       "2                          0                       1                        0   \n",
       "3                          0                       1                        0   \n",
       "4                          0                       1                        0   \n",
       "..                       ...                     ...                      ...   \n",
       "987                        1                       0                        0   \n",
       "988                        1                       0                        0   \n",
       "989                        1                       1                        1   \n",
       "990                        1                       0                        0   \n",
       "991                        1                       0                        0   \n",
       "\n",
       "     NEW BUILDING  AVAILABILITY OF GARDEN  \n",
       "0               0                       0  \n",
       "1               0                       0  \n",
       "2               0                       0  \n",
       "3               0                       0  \n",
       "4               0                       1  \n",
       "..            ...                     ...  \n",
       "987             1                       0  \n",
       "988             1                       0  \n",
       "989             0                       0  \n",
       "990             1                       0  \n",
       "991             1                       0  \n",
       "\n",
       "[992 rows x 5 columns]"
      ]
     },
     "execution_count": 49,
     "metadata": {},
     "output_type": "execute_result"
    }
   ],
   "source": [
    "dum_ams"
   ]
  },
  {
   "cell_type": "code",
   "execution_count": null,
   "id": "daa6edde",
   "metadata": {},
   "outputs": [],
   "source": []
  },
  {
   "cell_type": "code",
   "execution_count": 50,
   "id": "3c2b8978",
   "metadata": {},
   "outputs": [
    {
     "data": {
      "text/html": [
       "<div>\n",
       "<style scoped>\n",
       "    .dataframe tbody tr th:only-of-type {\n",
       "        vertical-align: middle;\n",
       "    }\n",
       "\n",
       "    .dataframe tbody tr th {\n",
       "        vertical-align: top;\n",
       "    }\n",
       "\n",
       "    .dataframe thead th {\n",
       "        text-align: right;\n",
       "    }\n",
       "</style>\n",
       "<table border=\"1\" class=\"dataframe\">\n",
       "  <thead>\n",
       "    <tr style=\"text-align: right;\">\n",
       "      <th></th>\n",
       "      <th>PRICE PER MONTH</th>\n",
       "      <th>AREA IN SQ METRE</th>\n",
       "      <th>NUMBER OF ROOMS</th>\n",
       "      <th>INTERIOR</th>\n",
       "      <th>UPKEEP STATUS</th>\n",
       "      <th>VOLUME</th>\n",
       "      <th>TYPE</th>\n",
       "      <th>CONSTRUCTION YEAR</th>\n",
       "      <th>NUMBER OF BEDROOMS</th>\n",
       "      <th>NUMBER OF BATHROOMS</th>\n",
       "      <th>NUMBER OF FLOORS</th>\n",
       "      <th>LOCATION PIN</th>\n",
       "      <th>AVAILABILITY OF BALCONY</th>\n",
       "      <th>AVAILABILITY OF GARAGE</th>\n",
       "      <th>AVAILABILITY OF STORAGE</th>\n",
       "      <th>NEW BUILDING</th>\n",
       "      <th>AVAILABILITY OF GARDEN</th>\n",
       "    </tr>\n",
       "  </thead>\n",
       "  <tbody>\n",
       "    <tr>\n",
       "      <th>0</th>\n",
       "      <td>2400</td>\n",
       "      <td>84</td>\n",
       "      <td>3</td>\n",
       "      <td>3</td>\n",
       "      <td>1</td>\n",
       "      <td>160</td>\n",
       "      <td>0</td>\n",
       "      <td>1005</td>\n",
       "      <td>2</td>\n",
       "      <td>1</td>\n",
       "      <td>1</td>\n",
       "      <td>1017</td>\n",
       "      <td>0</td>\n",
       "      <td>1</td>\n",
       "      <td>0</td>\n",
       "      <td>0</td>\n",
       "      <td>0</td>\n",
       "    </tr>\n",
       "    <tr>\n",
       "      <th>1</th>\n",
       "      <td>3250</td>\n",
       "      <td>120</td>\n",
       "      <td>4</td>\n",
       "      <td>2</td>\n",
       "      <td>0</td>\n",
       "      <td>325</td>\n",
       "      <td>0</td>\n",
       "      <td>1005</td>\n",
       "      <td>2</td>\n",
       "      <td>1</td>\n",
       "      <td>3</td>\n",
       "      <td>1016</td>\n",
       "      <td>0</td>\n",
       "      <td>1</td>\n",
       "      <td>0</td>\n",
       "      <td>0</td>\n",
       "      <td>0</td>\n",
       "    </tr>\n",
       "    <tr>\n",
       "      <th>2</th>\n",
       "      <td>2050</td>\n",
       "      <td>60</td>\n",
       "      <td>2</td>\n",
       "      <td>3</td>\n",
       "      <td>1</td>\n",
       "      <td>144</td>\n",
       "      <td>0</td>\n",
       "      <td>1005</td>\n",
       "      <td>1</td>\n",
       "      <td>1</td>\n",
       "      <td>1</td>\n",
       "      <td>1017</td>\n",
       "      <td>0</td>\n",
       "      <td>1</td>\n",
       "      <td>0</td>\n",
       "      <td>0</td>\n",
       "      <td>0</td>\n",
       "    </tr>\n",
       "    <tr>\n",
       "      <th>3</th>\n",
       "      <td>2250</td>\n",
       "      <td>95</td>\n",
       "      <td>2</td>\n",
       "      <td>0</td>\n",
       "      <td>1</td>\n",
       "      <td>300</td>\n",
       "      <td>0</td>\n",
       "      <td>1005</td>\n",
       "      <td>1</td>\n",
       "      <td>1</td>\n",
       "      <td>1</td>\n",
       "      <td>1015</td>\n",
       "      <td>0</td>\n",
       "      <td>1</td>\n",
       "      <td>0</td>\n",
       "      <td>0</td>\n",
       "      <td>0</td>\n",
       "    </tr>\n",
       "    <tr>\n",
       "      <th>4</th>\n",
       "      <td>2750</td>\n",
       "      <td>78</td>\n",
       "      <td>3</td>\n",
       "      <td>3</td>\n",
       "      <td>0</td>\n",
       "      <td>250</td>\n",
       "      <td>0</td>\n",
       "      <td>1005</td>\n",
       "      <td>2</td>\n",
       "      <td>1</td>\n",
       "      <td>2</td>\n",
       "      <td>1015</td>\n",
       "      <td>0</td>\n",
       "      <td>1</td>\n",
       "      <td>0</td>\n",
       "      <td>0</td>\n",
       "      <td>1</td>\n",
       "    </tr>\n",
       "  </tbody>\n",
       "</table>\n",
       "</div>"
      ],
      "text/plain": [
       "   PRICE PER MONTH  AREA IN SQ METRE  NUMBER OF ROOMS  INTERIOR  \\\n",
       "0             2400                84                3         3   \n",
       "1             3250               120                4         2   \n",
       "2             2050                60                2         3   \n",
       "3             2250                95                2         0   \n",
       "4             2750                78                3         3   \n",
       "\n",
       "   UPKEEP STATUS VOLUME  TYPE  CONSTRUCTION YEAR NUMBER OF BEDROOMS  \\\n",
       "0              1    160     0               1005                  2   \n",
       "1              0    325     0               1005                  2   \n",
       "2              1    144     0               1005                  1   \n",
       "3              1    300     0               1005                  1   \n",
       "4              0    250     0               1005                  2   \n",
       "\n",
       "  NUMBER OF BATHROOMS NUMBER OF FLOORS LOCATION PIN  AVAILABILITY OF BALCONY  \\\n",
       "0                   1                1         1017                        0   \n",
       "1                   1                3         1016                        0   \n",
       "2                   1                1         1017                        0   \n",
       "3                   1                1         1015                        0   \n",
       "4                   1                2         1015                        0   \n",
       "\n",
       "   AVAILABILITY OF GARAGE  AVAILABILITY OF STORAGE  NEW BUILDING  \\\n",
       "0                       1                        0             0   \n",
       "1                       1                        0             0   \n",
       "2                       1                        0             0   \n",
       "3                       1                        0             0   \n",
       "4                       1                        0             0   \n",
       "\n",
       "   AVAILABILITY OF GARDEN  \n",
       "0                       0  \n",
       "1                       0  \n",
       "2                       0  \n",
       "3                       0  \n",
       "4                       1  "
      ]
     },
     "execution_count": 50,
     "metadata": {},
     "output_type": "execute_result"
    }
   ],
   "source": [
    "# removing columns which have been already encoded\n",
    "df_ams.drop(columns=['DETAILS OF BALCONY','GARAGE','DETAILS OF STORAGE','CONSTRUCTION TYPE','AVAILABILITY OF GARDEN'],axis=1,inplace=True)\n",
    "df_ams=pd.concat((df_ams,dum_ams),axis=1)\n",
    "df_ams.head()"
   ]
  },
  {
   "cell_type": "code",
   "execution_count": null,
   "id": "b8d5e5c7",
   "metadata": {},
   "outputs": [],
   "source": []
  },
  {
   "cell_type": "code",
   "execution_count": 51,
   "id": "cb86e4ac",
   "metadata": {},
   "outputs": [
    {
     "data": {
      "text/plain": [
       "PRICE PER MONTH             int64\n",
       "AREA IN SQ METRE            int64\n",
       "NUMBER OF ROOMS             int64\n",
       "INTERIOR                    int64\n",
       "UPKEEP STATUS               int64\n",
       "VOLUME                     object\n",
       "TYPE                        int64\n",
       "CONSTRUCTION YEAR           int64\n",
       "NUMBER OF BEDROOMS         object\n",
       "NUMBER OF BATHROOMS        object\n",
       "NUMBER OF FLOORS           object\n",
       "LOCATION PIN               object\n",
       "AVAILABILITY OF BALCONY     uint8\n",
       "AVAILABILITY OF GARAGE      uint8\n",
       "AVAILABILITY OF STORAGE     uint8\n",
       "NEW BUILDING                uint8\n",
       "AVAILABILITY OF GARDEN      uint8\n",
       "dtype: object"
      ]
     },
     "execution_count": 51,
     "metadata": {},
     "output_type": "execute_result"
    }
   ],
   "source": [
    "df_ams.dtypes"
   ]
  },
  {
   "cell_type": "code",
   "execution_count": 52,
   "id": "0c15273c",
   "metadata": {},
   "outputs": [],
   "source": [
    "# converting datatypes\n",
    "df_ams['VOLUME'] = df_ams['VOLUME'].astype(float)\n",
    "df_ams['NUMBER OF BEDROOMS'] = df_ams['NUMBER OF BEDROOMS'].astype(int)\n",
    "df_ams['NUMBER OF BATHROOMS'] = df_ams['NUMBER OF BATHROOMS'].astype(int)\n",
    "df_ams['NUMBER OF FLOORS'] = df_ams['NUMBER OF FLOORS'].astype(int)\n",
    "df_ams['LOCATION PIN'] = df_ams['LOCATION PIN'].astype(int)"
   ]
  },
  {
   "cell_type": "code",
   "execution_count": null,
   "id": "67f818d8",
   "metadata": {},
   "outputs": [],
   "source": []
  },
  {
   "cell_type": "code",
   "execution_count": 53,
   "id": "a1a924da",
   "metadata": {},
   "outputs": [
    {
     "data": {
      "image/png": "[encoded data removed]",
      "text/plain": [
       "<Figure size 720x360 with 2 Axes>"
      ]
     },
     "metadata": {
      "needs_background": "light"
     },
     "output_type": "display_data"
    }
   ],
   "source": [
    "# heatmap for showing correlation between features\n",
    "plt.figure(figsize=(10,5))\n",
    "sns.heatmap(df_ams.corr(),annot=True)\n",
    "plt.show()"
   ]
  },
  {
   "cell_type": "code",
   "execution_count": 54,
   "id": "c76d0a27",
   "metadata": {},
   "outputs": [],
   "source": [
    "# dropping columns showing low correlation with price \n",
    "# drop 'NUMBER OF BEDROOMS' beacuse of multicollinearity\n",
    "df_ams.drop(columns=['TYPE','AVAILABILITY OF BALCONY',\n",
    "                     'AVAILABILITY OF GARAGE',\n",
    "                     'INTERIOR',\n",
    "                     'NUMBER OF BEDROOMS',\n",
    "                     'AVAILABILITY OF STORAGE',\n",
    "                     'LOCATION PIN',\n",
    "                     'AVAILABILITY OF GARDEN',\n",
    "                     'NEW BUILDING',\n",
    "                     'UPKEEP STATUS',\n",
    "                     'CONSTRUCTION YEAR'],axis=1,inplace=True)"
   ]
  },
  {
   "cell_type": "code",
   "execution_count": 55,
   "id": "f5e6fb7a",
   "metadata": {},
   "outputs": [
    {
     "data": {
      "text/plain": [
       "PRICE PER MONTH        1.000000\n",
       "AREA IN SQ METRE       0.843338\n",
       "NUMBER OF ROOMS        0.635015\n",
       "VOLUME                 0.591618\n",
       "NUMBER OF BATHROOMS    0.641717\n",
       "NUMBER OF FLOORS       0.477341\n",
       "Name: PRICE PER MONTH, dtype: float64"
      ]
     },
     "execution_count": 55,
     "metadata": {},
     "output_type": "execute_result"
    }
   ],
   "source": [
    "# correlation of features with price\n",
    "df_ams.corr()['PRICE PER MONTH']"
   ]
  },
  {
   "cell_type": "code",
   "execution_count": 56,
   "id": "8d560c89",
   "metadata": {},
   "outputs": [
    {
     "data": {
      "text/html": [
       "<div>\n",
       "<style scoped>\n",
       "    .dataframe tbody tr th:only-of-type {\n",
       "        vertical-align: middle;\n",
       "    }\n",
       "\n",
       "    .dataframe tbody tr th {\n",
       "        vertical-align: top;\n",
       "    }\n",
       "\n",
       "    .dataframe thead th {\n",
       "        text-align: right;\n",
       "    }\n",
       "</style>\n",
       "<table border=\"1\" class=\"dataframe\">\n",
       "  <thead>\n",
       "    <tr style=\"text-align: right;\">\n",
       "      <th></th>\n",
       "      <th>PRICE PER MONTH</th>\n",
       "      <th>AREA IN SQ METRE</th>\n",
       "      <th>NUMBER OF ROOMS</th>\n",
       "      <th>VOLUME</th>\n",
       "      <th>NUMBER OF BATHROOMS</th>\n",
       "      <th>NUMBER OF FLOORS</th>\n",
       "    </tr>\n",
       "  </thead>\n",
       "  <tbody>\n",
       "    <tr>\n",
       "      <th>0</th>\n",
       "      <td>2400</td>\n",
       "      <td>84</td>\n",
       "      <td>3</td>\n",
       "      <td>160.0</td>\n",
       "      <td>1</td>\n",
       "      <td>1</td>\n",
       "    </tr>\n",
       "    <tr>\n",
       "      <th>1</th>\n",
       "      <td>3250</td>\n",
       "      <td>120</td>\n",
       "      <td>4</td>\n",
       "      <td>325.0</td>\n",
       "      <td>1</td>\n",
       "      <td>3</td>\n",
       "    </tr>\n",
       "    <tr>\n",
       "      <th>2</th>\n",
       "      <td>2050</td>\n",
       "      <td>60</td>\n",
       "      <td>2</td>\n",
       "      <td>144.0</td>\n",
       "      <td>1</td>\n",
       "      <td>1</td>\n",
       "    </tr>\n",
       "    <tr>\n",
       "      <th>3</th>\n",
       "      <td>2250</td>\n",
       "      <td>95</td>\n",
       "      <td>2</td>\n",
       "      <td>300.0</td>\n",
       "      <td>1</td>\n",
       "      <td>1</td>\n",
       "    </tr>\n",
       "    <tr>\n",
       "      <th>4</th>\n",
       "      <td>2750</td>\n",
       "      <td>78</td>\n",
       "      <td>3</td>\n",
       "      <td>250.0</td>\n",
       "      <td>1</td>\n",
       "      <td>2</td>\n",
       "    </tr>\n",
       "    <tr>\n",
       "      <th>...</th>\n",
       "      <td>...</td>\n",
       "      <td>...</td>\n",
       "      <td>...</td>\n",
       "      <td>...</td>\n",
       "      <td>...</td>\n",
       "      <td>...</td>\n",
       "    </tr>\n",
       "    <tr>\n",
       "      <th>987</th>\n",
       "      <td>1915</td>\n",
       "      <td>95</td>\n",
       "      <td>4</td>\n",
       "      <td>370.0</td>\n",
       "      <td>1</td>\n",
       "      <td>1</td>\n",
       "    </tr>\n",
       "    <tr>\n",
       "      <th>988</th>\n",
       "      <td>2654</td>\n",
       "      <td>129</td>\n",
       "      <td>4</td>\n",
       "      <td>300.0</td>\n",
       "      <td>2</td>\n",
       "      <td>1</td>\n",
       "    </tr>\n",
       "    <tr>\n",
       "      <th>989</th>\n",
       "      <td>2750</td>\n",
       "      <td>132</td>\n",
       "      <td>4</td>\n",
       "      <td>343.0</td>\n",
       "      <td>1</td>\n",
       "      <td>1</td>\n",
       "    </tr>\n",
       "    <tr>\n",
       "      <th>990</th>\n",
       "      <td>1672</td>\n",
       "      <td>69</td>\n",
       "      <td>3</td>\n",
       "      <td>180.0</td>\n",
       "      <td>1</td>\n",
       "      <td>1</td>\n",
       "    </tr>\n",
       "    <tr>\n",
       "      <th>991</th>\n",
       "      <td>1488</td>\n",
       "      <td>49</td>\n",
       "      <td>1</td>\n",
       "      <td>127.0</td>\n",
       "      <td>1</td>\n",
       "      <td>1</td>\n",
       "    </tr>\n",
       "  </tbody>\n",
       "</table>\n",
       "<p>992 rows × 6 columns</p>\n",
       "</div>"
      ],
      "text/plain": [
       "     PRICE PER MONTH  AREA IN SQ METRE  NUMBER OF ROOMS  VOLUME  \\\n",
       "0               2400                84                3   160.0   \n",
       "1               3250               120                4   325.0   \n",
       "2               2050                60                2   144.0   \n",
       "3               2250                95                2   300.0   \n",
       "4               2750                78                3   250.0   \n",
       "..               ...               ...              ...     ...   \n",
       "987             1915                95                4   370.0   \n",
       "988             2654               129                4   300.0   \n",
       "989             2750               132                4   343.0   \n",
       "990             1672                69                3   180.0   \n",
       "991             1488                49                1   127.0   \n",
       "\n",
       "     NUMBER OF BATHROOMS  NUMBER OF FLOORS  \n",
       "0                      1                 1  \n",
       "1                      1                 3  \n",
       "2                      1                 1  \n",
       "3                      1                 1  \n",
       "4                      1                 2  \n",
       "..                   ...               ...  \n",
       "987                    1                 1  \n",
       "988                    2                 1  \n",
       "989                    1                 1  \n",
       "990                    1                 1  \n",
       "991                    1                 1  \n",
       "\n",
       "[992 rows x 6 columns]"
      ]
     },
     "execution_count": 56,
     "metadata": {},
     "output_type": "execute_result"
    }
   ],
   "source": [
    "df_ams"
   ]
  },
  {
   "cell_type": "code",
   "execution_count": 57,
   "id": "bfaf0749",
   "metadata": {},
   "outputs": [
    {
     "data": {
      "text/plain": [
       "Index(['PRICE PER MONTH', 'AREA IN SQ METRE', 'NUMBER OF ROOMS', 'VOLUME',\n",
       "       'NUMBER OF BATHROOMS', 'NUMBER OF FLOORS'],\n",
       "      dtype='object')"
      ]
     },
     "execution_count": 57,
     "metadata": {},
     "output_type": "execute_result"
    }
   ],
   "source": [
    "df_ams.columns"
   ]
  },
  {
   "cell_type": "code",
   "execution_count": 58,
   "id": "f3b6426c",
   "metadata": {},
   "outputs": [
    {
     "data": {
      "text/plain": [
       "52"
      ]
     },
     "execution_count": 58,
     "metadata": {},
     "output_type": "execute_result"
    }
   ],
   "source": [
    "# checking for duplicates and dropping them\n",
    "df_ams.duplicated().sum()"
   ]
  },
  {
   "cell_type": "code",
   "execution_count": 59,
   "id": "8e10c9df",
   "metadata": {},
   "outputs": [],
   "source": [
    "df_ams.drop_duplicates(inplace=True)"
   ]
  },
  {
   "cell_type": "markdown",
   "id": "7d284fa5",
   "metadata": {},
   "source": [
    "# Modelling"
   ]
  },
  {
   "cell_type": "code",
   "execution_count": 60,
   "id": "5ce0fa95",
   "metadata": {},
   "outputs": [],
   "source": [
    "X=df_ams.drop(['PRICE PER MONTH'],axis=1)\n",
    "y=df_ams['PRICE PER MONTH']"
   ]
  },
  {
   "cell_type": "code",
   "execution_count": 61,
   "id": "dab11bbb",
   "metadata": {},
   "outputs": [],
   "source": [
    "X_train,X_test,y_train,y_test=train_test_split(X,y,test_size=0.2,random_state=42)"
   ]
  },
  {
   "cell_type": "code",
   "execution_count": 62,
   "id": "c0f30dba",
   "metadata": {},
   "outputs": [],
   "source": [
    "scaler = StandardScaler()\n",
    "\n",
    "# Fit the scaler to the training data\n",
    "scaler.fit(X_train)\n",
    "\n",
    "# Transform the training and test data\n",
    "X_train_scaled = scaler.transform(X_train)\n",
    "X_test_scaled = scaler.transform(X_test)"
   ]
  },
  {
   "cell_type": "code",
   "execution_count": null,
   "id": "5a982f01",
   "metadata": {},
   "outputs": [],
   "source": []
  },
  {
   "cell_type": "code",
   "execution_count": 63,
   "id": "e1d361fa",
   "metadata": {},
   "outputs": [],
   "source": [
    "# LASSO REGRESSION"
   ]
  },
  {
   "cell_type": "code",
   "execution_count": 64,
   "id": "b8b264f7",
   "metadata": {},
   "outputs": [
    {
     "name": "stdout",
     "output_type": "stream",
     "text": [
      "Best hyperparameters: {'alpha': 10}\n",
      "Mean Squared Error: 354207.167\n",
      "Test score: 0.7653\n"
     ]
    }
   ],
   "source": [
    "# Create a lasso regression model\n",
    "model = Lasso()\n",
    "\n",
    "# Create a dictionary of hyperparameters to search\n",
    "param_grid = {'alpha': [0.01, 0.1, 1, 10, 100]}\n",
    "\n",
    "# Use GridSearchCV to tune the hyperparameters\n",
    "grid_search = GridSearchCV(model, param_grid, cv=5)\n",
    "grid_search.fit(X_train_scaled, y_train)\n",
    "y_pred = grid_search.predict(X_test_scaled)\n",
    "\n",
    "# Print the best hyperparameters\n",
    "print(\"Best hyperparameters:\", grid_search.best_params_)\n",
    "\n",
    "# Evaluate the model on the test set\n",
    "print(\"Mean Squared Error: %.3f\" % mean_squared_error(y_test, y_pred))\n",
    "print(\"Test score: %.4f\" % (r2_score(y_test,y_pred)))"
   ]
  },
  {
   "cell_type": "code",
   "execution_count": null,
   "id": "fc5d8766",
   "metadata": {},
   "outputs": [],
   "source": []
  },
  {
   "cell_type": "code",
   "execution_count": 65,
   "id": "3721d0d3",
   "metadata": {},
   "outputs": [],
   "source": [
    "# RIDGE REGRESSION"
   ]
  },
  {
   "cell_type": "code",
   "execution_count": 66,
   "id": "352ad3b2",
   "metadata": {},
   "outputs": [
    {
     "name": "stdout",
     "output_type": "stream",
     "text": [
      "Best hyperparameters: {'alpha': 10}\n",
      "Mean Squared Error: 355440.530\n",
      "Test Score: 0.7645\n"
     ]
    }
   ],
   "source": [
    "# Create a ridge regression model\n",
    "model = Ridge()\n",
    "\n",
    "# Create a dictionary of hyperparameters to search\n",
    "param_grid = {'alpha': [0.01, 0.1, 1, 10, 100]}\n",
    "\n",
    "# Use GridSearchCV to tune the hyperparameters\n",
    "grid_search = GridSearchCV(model, param_grid, cv=5)  #, return_train_score=True\n",
    "grid_search.fit(X_train_scaled, y_train)\n",
    "y_pred = grid_search.predict(X_test_scaled)\n",
    "\n",
    "# Print the best hyperparameters\n",
    "print(\"Best hyperparameters:\", grid_search.best_params_)\n",
    "\n",
    "# Evaluate the model on the test set\n",
    "print(\"Mean Squared Error: %.3f\" % mean_squared_error(y_test, y_pred))\n",
    "print(\"Test Score: %.4f\" %grid_search.score(X_test_scaled,y_test))"
   ]
  },
  {
   "cell_type": "code",
   "execution_count": null,
   "id": "10436d0f",
   "metadata": {},
   "outputs": [],
   "source": []
  },
  {
   "cell_type": "code",
   "execution_count": 67,
   "id": "afb15b39",
   "metadata": {},
   "outputs": [],
   "source": [
    "# RANDOM FOREST"
   ]
  },
  {
   "cell_type": "code",
   "execution_count": 68,
   "id": "c566320a",
   "metadata": {},
   "outputs": [
    {
     "name": "stdout",
     "output_type": "stream",
     "text": [
      "Best hyperparameters: {'n_estimators': 100, 'min_samples_split': 10, 'min_samples_leaf': 2, 'max_depth': 7}\n",
      "Mean Squared Error: 386969.318\n",
      "Test Score: 0.744\n"
     ]
    }
   ],
   "source": [
    "# Create a random forest model\n",
    "model = RandomForestRegressor()\n",
    "\n",
    "# Define the hyperparameter search space\n",
    "param_distributions = {\n",
    "    'n_estimators': [10, 100, 1000],\n",
    "    'max_depth': [None, 3, 5, 7],\n",
    "    'min_samples_split': [2, 5, 10],\n",
    "    'min_samples_leaf': [1, 2, 4]\n",
    "}\n",
    "\n",
    "# Use RandomizedSearchCV to tune the hyperparameters\n",
    "random_search = RandomizedSearchCV(model, param_distributions, n_iter=10, cv=5, return_train_score=True)\n",
    "random_search.fit(X_train_scaled, y_train)\n",
    "y_pred = random_search.predict(X_test_scaled)\n",
    "\n",
    "# Print the best hyperparameters\n",
    "print(\"Best hyperparameters:\", random_search.best_params_)\n",
    "\n",
    "# Evaluate the model on the test set\n",
    "print(\"Mean Squared Error: %.3f\" % mean_squared_error(y_test, y_pred))\n",
    "print(\"Test Score: %.3f\" %random_search.score(X_test_scaled,y_test))"
   ]
  },
  {
   "cell_type": "code",
   "execution_count": null,
   "id": "73132dcf",
   "metadata": {},
   "outputs": [],
   "source": []
  },
  {
   "cell_type": "code",
   "execution_count": 69,
   "id": "a8e831c8",
   "metadata": {},
   "outputs": [],
   "source": [
    "# XGBOOST REGRESSION"
   ]
  },
  {
   "cell_type": "code",
   "execution_count": 70,
   "id": "313f599f",
   "metadata": {},
   "outputs": [
    {
     "name": "stdout",
     "output_type": "stream",
     "text": [
      "Fitting 5 folds for each of 81 candidates, totalling 405 fits\n",
      "{'learning_rate': 0.1, 'max_depth': 3, 'n_estimators': 100, 'reg_lambda': 10.0}\n",
      "Mean Squared Error: 419401.708\n",
      "Test Score: 0.722\n"
     ]
    }
   ],
   "source": [
    "# Create a XGBoost model\n",
    "model = XGBRegressor()\n",
    "\n",
    "# Define the hyperparameter grid\n",
    "param_grid = {\n",
    "    'max_depth': [3, 5, 7],\n",
    "    'learning_rate': [0.1, 0.2, 0.3],\n",
    "    'n_estimators': [100, 200, 300],\n",
    "    'reg_lambda': [0.1, 1.0, 10.0]\n",
    "}\n",
    "\n",
    "# Use grid search to tune the hyperparameters\n",
    "grid_search = GridSearchCV(model, param_grid, cv=5, n_jobs=-1, verbose=1)\n",
    "grid_search.fit(X_train_scaled, y_train)\n",
    "y_pred = grid_search.predict(X_test_scaled)\n",
    "\n",
    "# Print the best hyperparameters\n",
    "print(grid_search.best_params_)\n",
    "\n",
    "# Evaluate the model on the test set\n",
    "print(\"Mean Squared Error: %.3f\" % mean_squared_error(y_test, y_pred))\n",
    "print(\"Test Score: %.3f\" %grid_search.score(X_test_scaled,y_test))"
   ]
  },
  {
   "cell_type": "code",
   "execution_count": null,
   "id": "4875570a",
   "metadata": {},
   "outputs": [],
   "source": []
  }
 ],
 "metadata": {
  "kernelspec": {
   "display_name": "Python 3 (ipykernel)",
   "language": "python",
   "name": "python3"
  },
  "language_info": {
   "codemirror_mode": {
    "name": "ipython",
    "version": 3
   },
   "file_extension": ".py",
   "mimetype": "text/x-python",
   "name": "python",
   "nbconvert_exporter": "python",
   "pygments_lexer": "ipython3",
   "version": "3.10.6"
  }
 },
 "nbformat": 4,
 "nbformat_minor": 5
}
